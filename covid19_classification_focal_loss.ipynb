{
  "nbformat": 4,
  "nbformat_minor": 0,
  "metadata": {
    "colab": {
      "name": "covid19_classification_focal_loss.ipynb",
      "provenance": [],
      "collapsed_sections": []
    },
    "kernelspec": {
      "name": "python3",
      "display_name": "Python 3"
    },
    "accelerator": "GPU",
    "widgets": {
      "application/vnd.jupyter.widget-state+json": {
        "689c2d99d9ab4de3ab90f468a0bf0038": {
          "model_module": "@jupyter-widgets/controls",
          "model_name": "HBoxModel",
          "state": {
            "_view_name": "HBoxView",
            "_dom_classes": [],
            "_model_name": "HBoxModel",
            "_view_module": "@jupyter-widgets/controls",
            "_model_module_version": "1.5.0",
            "_view_count": null,
            "_view_module_version": "1.5.0",
            "box_style": "",
            "layout": "IPY_MODEL_696a5f3ff3ea415fb16835ae1a887436",
            "_model_module": "@jupyter-widgets/controls",
            "children": [
              "IPY_MODEL_69117e50251a4196819a8f411b4c39f7",
              "IPY_MODEL_9b7a5a2b23004770a05d667025b9e967"
            ]
          }
        },
        "696a5f3ff3ea415fb16835ae1a887436": {
          "model_module": "@jupyter-widgets/base",
          "model_name": "LayoutModel",
          "state": {
            "_view_name": "LayoutView",
            "grid_template_rows": null,
            "right": null,
            "justify_content": null,
            "_view_module": "@jupyter-widgets/base",
            "overflow": null,
            "_model_module_version": "1.2.0",
            "_view_count": null,
            "flex_flow": null,
            "width": null,
            "min_width": null,
            "border": null,
            "align_items": null,
            "bottom": null,
            "_model_module": "@jupyter-widgets/base",
            "top": null,
            "grid_column": null,
            "overflow_y": null,
            "overflow_x": null,
            "grid_auto_flow": null,
            "grid_area": null,
            "grid_template_columns": null,
            "flex": null,
            "_model_name": "LayoutModel",
            "justify_items": null,
            "grid_row": null,
            "max_height": null,
            "align_content": null,
            "visibility": null,
            "align_self": null,
            "height": null,
            "min_height": null,
            "padding": null,
            "grid_auto_rows": null,
            "grid_gap": null,
            "max_width": null,
            "order": null,
            "_view_module_version": "1.2.0",
            "grid_template_areas": null,
            "object_position": null,
            "object_fit": null,
            "grid_auto_columns": null,
            "margin": null,
            "display": null,
            "left": null
          }
        },
        "69117e50251a4196819a8f411b4c39f7": {
          "model_module": "@jupyter-widgets/controls",
          "model_name": "IntProgressModel",
          "state": {
            "_view_name": "ProgressView",
            "style": "IPY_MODEL_e4d5a9ab5e7445379714aaad738dc623",
            "_dom_classes": [],
            "description": "100%",
            "_model_name": "IntProgressModel",
            "bar_style": "success",
            "max": 46827520,
            "_view_module": "@jupyter-widgets/controls",
            "_model_module_version": "1.5.0",
            "value": 46827520,
            "_view_count": null,
            "_view_module_version": "1.5.0",
            "orientation": "horizontal",
            "min": 0,
            "description_tooltip": null,
            "_model_module": "@jupyter-widgets/controls",
            "layout": "IPY_MODEL_5b503fd344da400b84a89b2274d8962b"
          }
        },
        "9b7a5a2b23004770a05d667025b9e967": {
          "model_module": "@jupyter-widgets/controls",
          "model_name": "HTMLModel",
          "state": {
            "_view_name": "HTMLView",
            "style": "IPY_MODEL_d9d400f73d10414d94bd8c7c84711a36",
            "_dom_classes": [],
            "description": "",
            "_model_name": "HTMLModel",
            "placeholder": "​",
            "_view_module": "@jupyter-widgets/controls",
            "_model_module_version": "1.5.0",
            "value": " 44.7M/44.7M [00:00&lt;00:00, 200MB/s]",
            "_view_count": null,
            "_view_module_version": "1.5.0",
            "description_tooltip": null,
            "_model_module": "@jupyter-widgets/controls",
            "layout": "IPY_MODEL_1eebf0198c7f44ab89ee007de7393f1e"
          }
        },
        "e4d5a9ab5e7445379714aaad738dc623": {
          "model_module": "@jupyter-widgets/controls",
          "model_name": "ProgressStyleModel",
          "state": {
            "_view_name": "StyleView",
            "_model_name": "ProgressStyleModel",
            "description_width": "initial",
            "_view_module": "@jupyter-widgets/base",
            "_model_module_version": "1.5.0",
            "_view_count": null,
            "_view_module_version": "1.2.0",
            "bar_color": null,
            "_model_module": "@jupyter-widgets/controls"
          }
        },
        "5b503fd344da400b84a89b2274d8962b": {
          "model_module": "@jupyter-widgets/base",
          "model_name": "LayoutModel",
          "state": {
            "_view_name": "LayoutView",
            "grid_template_rows": null,
            "right": null,
            "justify_content": null,
            "_view_module": "@jupyter-widgets/base",
            "overflow": null,
            "_model_module_version": "1.2.0",
            "_view_count": null,
            "flex_flow": null,
            "width": null,
            "min_width": null,
            "border": null,
            "align_items": null,
            "bottom": null,
            "_model_module": "@jupyter-widgets/base",
            "top": null,
            "grid_column": null,
            "overflow_y": null,
            "overflow_x": null,
            "grid_auto_flow": null,
            "grid_area": null,
            "grid_template_columns": null,
            "flex": null,
            "_model_name": "LayoutModel",
            "justify_items": null,
            "grid_row": null,
            "max_height": null,
            "align_content": null,
            "visibility": null,
            "align_self": null,
            "height": null,
            "min_height": null,
            "padding": null,
            "grid_auto_rows": null,
            "grid_gap": null,
            "max_width": null,
            "order": null,
            "_view_module_version": "1.2.0",
            "grid_template_areas": null,
            "object_position": null,
            "object_fit": null,
            "grid_auto_columns": null,
            "margin": null,
            "display": null,
            "left": null
          }
        },
        "d9d400f73d10414d94bd8c7c84711a36": {
          "model_module": "@jupyter-widgets/controls",
          "model_name": "DescriptionStyleModel",
          "state": {
            "_view_name": "StyleView",
            "_model_name": "DescriptionStyleModel",
            "description_width": "",
            "_view_module": "@jupyter-widgets/base",
            "_model_module_version": "1.5.0",
            "_view_count": null,
            "_view_module_version": "1.2.0",
            "_model_module": "@jupyter-widgets/controls"
          }
        },
        "1eebf0198c7f44ab89ee007de7393f1e": {
          "model_module": "@jupyter-widgets/base",
          "model_name": "LayoutModel",
          "state": {
            "_view_name": "LayoutView",
            "grid_template_rows": null,
            "right": null,
            "justify_content": null,
            "_view_module": "@jupyter-widgets/base",
            "overflow": null,
            "_model_module_version": "1.2.0",
            "_view_count": null,
            "flex_flow": null,
            "width": null,
            "min_width": null,
            "border": null,
            "align_items": null,
            "bottom": null,
            "_model_module": "@jupyter-widgets/base",
            "top": null,
            "grid_column": null,
            "overflow_y": null,
            "overflow_x": null,
            "grid_auto_flow": null,
            "grid_area": null,
            "grid_template_columns": null,
            "flex": null,
            "_model_name": "LayoutModel",
            "justify_items": null,
            "grid_row": null,
            "max_height": null,
            "align_content": null,
            "visibility": null,
            "align_self": null,
            "height": null,
            "min_height": null,
            "padding": null,
            "grid_auto_rows": null,
            "grid_gap": null,
            "max_width": null,
            "order": null,
            "_view_module_version": "1.2.0",
            "grid_template_areas": null,
            "object_position": null,
            "object_fit": null,
            "grid_auto_columns": null,
            "margin": null,
            "display": null,
            "left": null
          }
        }
      }
    }
  },
  "cells": [
    {
      "cell_type": "code",
      "metadata": {
        "id": "iWGTY3WeJNLq",
        "colab_type": "code",
        "colab": {}
      },
      "source": [
        "import torch\n",
        "import torch.nn as nn\n",
        "import torch.optim as optim\n",
        "from torch.optim import lr_scheduler\n",
        "from torch.autograd import Variable\n",
        "import numpy as np\n",
        "import torchvision\n",
        "from torchvision import datasets, models, transforms\n",
        "import matplotlib.pyplot as plt\n",
        "import time\n",
        "import os\n",
        "import csv\n",
        "import copy\n",
        "import numpy as np\n",
        "import seaborn as sns\n",
        "from sklearn.metrics import multilabel_confusion_matrix\n",
        "from sklearn.metrics import f1_score\n",
        "import pandas as pd"
      ],
      "execution_count": 0,
      "outputs": []
    },
    {
      "cell_type": "code",
      "metadata": {
        "id": "69O9kd7IJb4K",
        "colab_type": "code",
        "outputId": "6d867490-94a2-4094-c4aa-58cf69bd6615",
        "colab": {
          "base_uri": "https://localhost:8080/",
          "height": 35
        }
      },
      "source": [
        "from google.colab import drive\n",
        "drive.mount('/content/drive')"
      ],
      "execution_count": 0,
      "outputs": [
        {
          "output_type": "stream",
          "text": [
            "Drive already mounted at /content/drive; to attempt to forcibly remount, call drive.mount(\"/content/drive\", force_remount=True).\n"
          ],
          "name": "stdout"
        }
      ]
    },
    {
      "cell_type": "markdown",
      "metadata": {
        "id": "f-VYhqRKr1YO",
        "colab_type": "text"
      },
      "source": [
        "**Load Dataset**"
      ]
    },
    {
      "cell_type": "code",
      "metadata": {
        "id": "N5Fjrz38eAHb",
        "colab_type": "code",
        "colab": {}
      },
      "source": [
        "data_dir = '/content/drive/My Drive/A05_P2_Dataset'"
      ],
      "execution_count": 0,
      "outputs": []
    },
    {
      "cell_type": "code",
      "metadata": {
        "id": "4O-vE-cneRNf",
        "colab_type": "code",
        "outputId": "4e681695-24a3-4fdb-84da-a71d8790a5d0",
        "colab": {
          "base_uri": "https://localhost:8080/",
          "height": 53
        }
      },
      "source": [
        "# Define transforms for the training data and testing data\n",
        "train_transforms = transforms.Compose([transforms.RandomRotation(30),\n",
        "                                       transforms.RandomResizedCrop(224),\n",
        "                                       transforms.RandomHorizontalFlip(),\n",
        "                                       transforms.ToTensor(),\n",
        "                                       transforms.Normalize([0.485, 0.456, 0.406],\n",
        "                                                            [0.229, 0.224, 0.225])])\n",
        "\n",
        "test_transforms = transforms.Compose([transforms.Resize(256),\n",
        "                                      transforms.CenterCrop(224),\n",
        "                                      transforms.ToTensor(),\n",
        "                                      transforms.Normalize([0.485, 0.456, 0.406],\n",
        "                                                           [0.229, 0.224, 0.225])])\n",
        "\n",
        "# pass transform here-in\n",
        "train_data = datasets.ImageFolder(data_dir + '/Train', transform=train_transforms)\n",
        "valid_data = datasets.ImageFolder(data_dir + '/Validation', transform=test_transforms)\n",
        "test_data = datasets.ImageFolder(data_dir + '/Test', transform=test_transforms)\n",
        "\n",
        "# data loaders\n",
        "trainloader = torch.utils.data.DataLoader(train_data, batch_size=8, shuffle=True)\n",
        "validloader = torch.utils.data.DataLoader(valid_data, batch_size=8, shuffle=True)\n",
        "testloader = torch.utils.data.DataLoader(test_data, batch_size=8, shuffle=False)\n",
        "\n",
        "device = torch.device(\"cuda:0\" if torch.cuda.is_available() else \"cpu\")\n",
        "dataloaders = {'train':trainloader, 'val':validloader}\n",
        "\n",
        "print(\"Classes: \")\n",
        "class_names = train_data.classes\n",
        "print(class_names)"
      ],
      "execution_count": 0,
      "outputs": [
        {
          "output_type": "stream",
          "text": [
            "Classes: \n",
            "['0__covid', '1__pneumonia', '2__normal']\n"
          ],
          "name": "stdout"
        }
      ]
    },
    {
      "cell_type": "code",
      "metadata": {
        "id": "gPH7t7v4lywP",
        "colab_type": "code",
        "colab": {}
      },
      "source": [
        "def onehot(labels):\n",
        "    arr = np.array(labels)\n",
        "    out = np.zeros((arr.size, 3))\n",
        "    out[np.arange(arr.size),arr] = 1\n",
        "    out[out[:,0] == 1] = np.array([1,1,0])\n",
        "    out = torch.Tensor(out)\n",
        "    return out.to(device)\n",
        "\n",
        "class focal_loss(nn.Module):\n",
        "    def __init__(self, alpha=0.5, gamma=1.2):\n",
        "        super(focal_loss,self).__init__()\n",
        "        self.a = alpha\n",
        "        self.g = gamma\n",
        "        \n",
        "    def forward(self, outputs, labels):\n",
        "        bce_loss = nn.BCEWithLogitsLoss(reduction='none')(outputs, labels)\n",
        "        pt = torch.exp(-bce_loss)\n",
        "        loss = self.a * ((1-pt)**self.g) * bce_loss\n",
        "        return loss.mean()"
      ],
      "execution_count": 0,
      "outputs": []
    },
    {
      "cell_type": "markdown",
      "metadata": {
        "id": "JvzgwhV21ZUc",
        "colab_type": "text"
      },
      "source": [
        "**Training Function**"
      ]
    },
    {
      "cell_type": "code",
      "metadata": {
        "id": "l_hJ-HkTmE7r",
        "colab_type": "code",
        "colab": {}
      },
      "source": [
        "def train_model(model, criterion, optimizer, num_epochs=10):\n",
        "    since = time.time()\n",
        "    err_tr = []\n",
        "    err_val = []\n",
        "    acc_tr = []\n",
        "    acc_val = []\n",
        "\n",
        "    best_model_wts = copy.deepcopy(model.state_dict())\n",
        "    best_acc = 0.0\n",
        "\n",
        "    for epoch in range(num_epochs):\n",
        "        print('Epoch {}/{}'.format(epoch+1, num_epochs))\n",
        "        print('-' * 40)\n",
        "\n",
        "        # Each epoch has a training and validation phase\n",
        "        for phase in ['train', 'val']:\n",
        "            if phase == 'train':\n",
        "                model.train()  # Set model to training mode\n",
        "            else:\n",
        "                model.eval()   # Set model to evaluate mode\n",
        "\n",
        "            running_loss = 0.0\n",
        "            running_corrects = 0\n",
        "            total = 0\n",
        "\n",
        "            # Iterate over data.\n",
        "            for inputs, labels in dataloaders[phase]:\n",
        "                inputs = inputs.to(device)\n",
        "                labels = onehot(labels)\n",
        "                labels = labels.to(device)\n",
        "\n",
        "                # zero the parameter gradients\n",
        "                optimizer.zero_grad()\n",
        "\n",
        "                # forward\n",
        "                # track history if only in train\n",
        "                with torch.set_grad_enabled(phase == 'train'):\n",
        "                    outputs = model(inputs)\n",
        "                    preds = torch.sigmoid(outputs.data)\n",
        "                    preds[preds>=0.5] = 1\n",
        "                    preds[preds<0.5] = 0\n",
        "                    loss = criterion(outputs, labels)\n",
        "                    \n",
        "\n",
        "                    # backward + optimize only if in training phase\n",
        "                    if phase == 'train':\n",
        "                        loss.backward()\n",
        "                        optimizer.step()\n",
        "\n",
        "                # statistics\n",
        "                running_loss += loss.item() * inputs.size(0)\n",
        "                total += labels.size(0)\n",
        "                running_corrects += (preds == labels).prod(1).sum().item()\n",
        "\n",
        "            epoch_loss = running_loss / total\n",
        "            epoch_acc = running_corrects / total\n",
        "\n",
        "            print('{} ==> Loss: {:.4f} , Acc: {:.2f} %'.format(phase, epoch_loss, epoch_acc*100))\n",
        "            \n",
        "            if phase == 'train':\n",
        "                err_tr.append(epoch_loss)\n",
        "                acc_tr.append(epoch_acc*100)\n",
        "            else:\n",
        "                err_val.append(epoch_loss)\n",
        "                acc_val.append(epoch_acc*100)\n",
        "\n",
        "            # deep copy the model\n",
        "            if phase == 'val' and epoch_acc > best_acc:\n",
        "                best_acc = epoch_acc\n",
        "                best_model_wts = copy.deepcopy(model.state_dict())\n",
        "        print()\n",
        "\n",
        "    time_elapsed = time.time() - since\n",
        "    print('Training complete in {:.0f}m {:.0f}s'.format(time_elapsed // 60, time_elapsed % 60))\n",
        "    print('Best Validation Accuracy: {:4f} %'.format(best_acc*100))\n",
        "\n",
        "    # load best model weights\n",
        "    model.load_state_dict(best_model_wts)\n",
        "\n",
        "    return model, err_tr, acc_tr, err_val, acc_val"
      ],
      "execution_count": 0,
      "outputs": []
    },
    {
      "cell_type": "markdown",
      "metadata": {
        "id": "9C1rslsmsCQt",
        "colab_type": "text"
      },
      "source": [
        "*** ----------------> VGG-16 Model <---------------- ***"
      ]
    },
    {
      "cell_type": "code",
      "metadata": {
        "id": "xS5vRSt9gH0U",
        "colab_type": "code",
        "outputId": "70a24fcd-c771-4ad7-bd15-eb91daf1fc5c",
        "colab": {
          "base_uri": "https://localhost:8080/",
          "height": 773
        }
      },
      "source": [
        "# Load the pretrained model from pytorch\n",
        "vgg16 = models.vgg16(pretrained=True)\n",
        "\n",
        "# Freeze all the layers except the last FC layers\n",
        "for param in vgg16.parameters():\n",
        "    param.requires_grad = True\n",
        "\n",
        "#### Use this for unfreezing CNN layers\n",
        "# for i in [17,19,21,24,26,28]:\n",
        "#     for param in vgg16.features[i].parameters():\n",
        "#         param.requires_grad = True\n",
        "\n",
        "# Fully connected layer architecture\n",
        "fc_layers = []\n",
        "fc_layers.extend( [ nn.Linear( vgg16.classifier[0].in_features , 96*10+100 , bias=True ) ] )\n",
        "fc_layers.extend( [ nn.ReLU( inplace=True ) ] )\n",
        "fc_layers.extend( [ nn.Dropout( p=0.5, inplace=False ) ] )\n",
        "fc_layers.extend( [ nn.Linear( 96*10+100 , len(class_names) ) ] )\n",
        "\n",
        "# Modifying dense layers in VGG16 architecture\n",
        "vgg16.classifier = nn.Sequential(*fc_layers)\n",
        "\n",
        "# Unfreeze FC layers\n",
        "for param in vgg16.classifier.parameters():\n",
        "    param.requires_grad = True\n",
        "\n",
        "# Printing modified VGG16 architecture\n",
        "print(vgg16)"
      ],
      "execution_count": 0,
      "outputs": [
        {
          "output_type": "stream",
          "text": [
            "VGG(\n",
            "  (features): Sequential(\n",
            "    (0): Conv2d(3, 64, kernel_size=(3, 3), stride=(1, 1), padding=(1, 1))\n",
            "    (1): ReLU(inplace=True)\n",
            "    (2): Conv2d(64, 64, kernel_size=(3, 3), stride=(1, 1), padding=(1, 1))\n",
            "    (3): ReLU(inplace=True)\n",
            "    (4): MaxPool2d(kernel_size=2, stride=2, padding=0, dilation=1, ceil_mode=False)\n",
            "    (5): Conv2d(64, 128, kernel_size=(3, 3), stride=(1, 1), padding=(1, 1))\n",
            "    (6): ReLU(inplace=True)\n",
            "    (7): Conv2d(128, 128, kernel_size=(3, 3), stride=(1, 1), padding=(1, 1))\n",
            "    (8): ReLU(inplace=True)\n",
            "    (9): MaxPool2d(kernel_size=2, stride=2, padding=0, dilation=1, ceil_mode=False)\n",
            "    (10): Conv2d(128, 256, kernel_size=(3, 3), stride=(1, 1), padding=(1, 1))\n",
            "    (11): ReLU(inplace=True)\n",
            "    (12): Conv2d(256, 256, kernel_size=(3, 3), stride=(1, 1), padding=(1, 1))\n",
            "    (13): ReLU(inplace=True)\n",
            "    (14): Conv2d(256, 256, kernel_size=(3, 3), stride=(1, 1), padding=(1, 1))\n",
            "    (15): ReLU(inplace=True)\n",
            "    (16): MaxPool2d(kernel_size=2, stride=2, padding=0, dilation=1, ceil_mode=False)\n",
            "    (17): Conv2d(256, 512, kernel_size=(3, 3), stride=(1, 1), padding=(1, 1))\n",
            "    (18): ReLU(inplace=True)\n",
            "    (19): Conv2d(512, 512, kernel_size=(3, 3), stride=(1, 1), padding=(1, 1))\n",
            "    (20): ReLU(inplace=True)\n",
            "    (21): Conv2d(512, 512, kernel_size=(3, 3), stride=(1, 1), padding=(1, 1))\n",
            "    (22): ReLU(inplace=True)\n",
            "    (23): MaxPool2d(kernel_size=2, stride=2, padding=0, dilation=1, ceil_mode=False)\n",
            "    (24): Conv2d(512, 512, kernel_size=(3, 3), stride=(1, 1), padding=(1, 1))\n",
            "    (25): ReLU(inplace=True)\n",
            "    (26): Conv2d(512, 512, kernel_size=(3, 3), stride=(1, 1), padding=(1, 1))\n",
            "    (27): ReLU(inplace=True)\n",
            "    (28): Conv2d(512, 512, kernel_size=(3, 3), stride=(1, 1), padding=(1, 1))\n",
            "    (29): ReLU(inplace=True)\n",
            "    (30): MaxPool2d(kernel_size=2, stride=2, padding=0, dilation=1, ceil_mode=False)\n",
            "  )\n",
            "  (avgpool): AdaptiveAvgPool2d(output_size=(7, 7))\n",
            "  (classifier): Sequential(\n",
            "    (0): Linear(in_features=25088, out_features=1060, bias=True)\n",
            "    (1): ReLU(inplace=True)\n",
            "    (2): Dropout(p=0.5, inplace=False)\n",
            "    (3): Linear(in_features=1060, out_features=3, bias=True)\n",
            "  )\n",
            ")\n"
          ],
          "name": "stdout"
        }
      ]
    },
    {
      "cell_type": "code",
      "metadata": {
        "id": "nB0oZLL3chbk",
        "colab_type": "code",
        "outputId": "fbd8e49e-fa66-4a08-ee25-2640669511bb",
        "colab": {
          "base_uri": "https://localhost:8080/",
          "height": 557
        }
      },
      "source": [
        "# Printing parameter that needs to be updated for VGG16\n",
        "\n",
        "for name, param in vgg16.named_parameters():\n",
        "    if param.requires_grad:\n",
        "       print(name)"
      ],
      "execution_count": 0,
      "outputs": [
        {
          "output_type": "stream",
          "text": [
            "features.0.weight\n",
            "features.0.bias\n",
            "features.2.weight\n",
            "features.2.bias\n",
            "features.5.weight\n",
            "features.5.bias\n",
            "features.7.weight\n",
            "features.7.bias\n",
            "features.10.weight\n",
            "features.10.bias\n",
            "features.12.weight\n",
            "features.12.bias\n",
            "features.14.weight\n",
            "features.14.bias\n",
            "features.17.weight\n",
            "features.17.bias\n",
            "features.19.weight\n",
            "features.19.bias\n",
            "features.21.weight\n",
            "features.21.bias\n",
            "features.24.weight\n",
            "features.24.bias\n",
            "features.26.weight\n",
            "features.26.bias\n",
            "features.28.weight\n",
            "features.28.bias\n",
            "classifier.0.weight\n",
            "classifier.0.bias\n",
            "classifier.3.weight\n",
            "classifier.3.bias\n"
          ],
          "name": "stdout"
        }
      ]
    },
    {
      "cell_type": "code",
      "metadata": {
        "id": "set9xI0OuzFm",
        "colab_type": "code",
        "colab": {}
      },
      "source": [
        "criterion = focal_loss(alpha=0.8, gamma=0.5)\n",
        "optimizer = optim.SGD(vgg16.parameters(), lr=0.0001, momentum=0.9)"
      ],
      "execution_count": 0,
      "outputs": []
    },
    {
      "cell_type": "code",
      "metadata": {
        "id": "4gzhIpyrZUlC",
        "colab_type": "code",
        "colab": {}
      },
      "source": [
        "vgg16 = vgg16.to(device)"
      ],
      "execution_count": 0,
      "outputs": []
    },
    {
      "cell_type": "code",
      "metadata": {
        "id": "TipnmhSJ9dkP",
        "colab_type": "code",
        "outputId": "c4ef66bf-3380-4d7f-bac1-4252ddb38467",
        "colab": {
          "base_uri": "https://localhost:8080/",
          "height": 1000
        }
      },
      "source": [
        "##### training\n",
        "model_vgg, err_tr, acc_tr, err_val, acc_val = train_model( vgg16, criterion, optimizer, num_epochs = 20 )"
      ],
      "execution_count": 0,
      "outputs": [
        {
          "output_type": "stream",
          "text": [
            "Epoch 1/20\n",
            "----------------------------------------\n",
            "train ==> Loss: 0.2123 , Acc: 70.35 %\n",
            "val ==> Loss: 0.1443 , Acc: 85.83 %\n",
            "\n",
            "Epoch 2/20\n",
            "----------------------------------------\n",
            "train ==> Loss: 0.1506 , Acc: 82.37 %\n",
            "val ==> Loss: 0.1184 , Acc: 88.85 %\n",
            "\n",
            "Epoch 3/20\n",
            "----------------------------------------\n",
            "train ==> Loss: 0.1395 , Acc: 83.48 %\n",
            "val ==> Loss: 0.1114 , Acc: 89.97 %\n",
            "\n",
            "Epoch 4/20\n",
            "----------------------------------------\n",
            "train ==> Loss: 0.1288 , Acc: 85.05 %\n",
            "val ==> Loss: 0.1050 , Acc: 87.58 %\n",
            "\n",
            "Epoch 5/20\n",
            "----------------------------------------\n",
            "train ==> Loss: 0.1214 , Acc: 85.87 %\n",
            "val ==> Loss: 0.1033 , Acc: 90.13 %\n",
            "\n",
            "Epoch 6/20\n",
            "----------------------------------------\n",
            "train ==> Loss: 0.1163 , Acc: 86.45 %\n",
            "val ==> Loss: 0.1095 , Acc: 89.49 %\n",
            "\n",
            "Epoch 7/20\n",
            "----------------------------------------\n",
            "train ==> Loss: 0.1166 , Acc: 86.52 %\n",
            "val ==> Loss: 0.0925 , Acc: 91.40 %\n",
            "\n",
            "Epoch 8/20\n",
            "----------------------------------------\n",
            "train ==> Loss: 0.1117 , Acc: 87.37 %\n",
            "val ==> Loss: 0.0963 , Acc: 90.76 %\n",
            "\n",
            "Epoch 9/20\n",
            "----------------------------------------\n",
            "train ==> Loss: 0.1095 , Acc: 87.00 %\n",
            "val ==> Loss: 0.0871 , Acc: 91.56 %\n",
            "\n",
            "Epoch 10/20\n",
            "----------------------------------------\n",
            "train ==> Loss: 0.1071 , Acc: 88.16 %\n",
            "val ==> Loss: 0.0880 , Acc: 90.76 %\n",
            "\n",
            "Epoch 11/20\n",
            "----------------------------------------\n",
            "train ==> Loss: 0.1003 , Acc: 88.44 %\n",
            "val ==> Loss: 0.0879 , Acc: 91.56 %\n",
            "\n",
            "Epoch 12/20\n",
            "----------------------------------------\n",
            "train ==> Loss: 0.1034 , Acc: 88.37 %\n",
            "val ==> Loss: 0.0838 , Acc: 91.08 %\n",
            "\n",
            "Epoch 13/20\n",
            "----------------------------------------\n",
            "train ==> Loss: 0.0991 , Acc: 88.32 %\n",
            "val ==> Loss: 0.0868 , Acc: 91.40 %\n",
            "\n",
            "Epoch 14/20\n",
            "----------------------------------------\n",
            "train ==> Loss: 0.1002 , Acc: 88.53 %\n",
            "val ==> Loss: 0.0813 , Acc: 91.72 %\n",
            "\n",
            "Epoch 15/20\n",
            "----------------------------------------\n",
            "train ==> Loss: 0.1018 , Acc: 88.42 %\n",
            "val ==> Loss: 0.0913 , Acc: 91.56 %\n",
            "\n",
            "Epoch 16/20\n",
            "----------------------------------------\n",
            "train ==> Loss: 0.0991 , Acc: 88.65 %\n",
            "val ==> Loss: 0.1120 , Acc: 89.97 %\n",
            "\n",
            "Epoch 17/20\n",
            "----------------------------------------\n",
            "train ==> Loss: 0.0967 , Acc: 88.76 %\n",
            "val ==> Loss: 0.0940 , Acc: 91.72 %\n",
            "\n",
            "Epoch 18/20\n",
            "----------------------------------------\n",
            "train ==> Loss: 0.0942 , Acc: 89.21 %\n",
            "val ==> Loss: 0.0765 , Acc: 93.15 %\n",
            "\n",
            "Epoch 19/20\n",
            "----------------------------------------\n",
            "train ==> Loss: 0.0942 , Acc: 89.18 %\n",
            "val ==> Loss: 0.0812 , Acc: 92.20 %\n",
            "\n",
            "Epoch 20/20\n",
            "----------------------------------------\n",
            "train ==> Loss: 0.0936 , Acc: 89.37 %\n",
            "val ==> Loss: 0.0758 , Acc: 92.36 %\n",
            "\n",
            "Training complete in 88m 1s\n",
            "Best Validation Accuracy: 93.152866 %\n"
          ],
          "name": "stdout"
        }
      ]
    },
    {
      "cell_type": "code",
      "metadata": {
        "id": "FUGJOs_-fRXa",
        "colab_type": "code",
        "colab": {}
      },
      "source": [
        "plt.plot( range(20) , err_tr )\n",
        "plt.xlabel('Number of epochs')\n",
        "plt.ylabel('Cross Entropy Error')\n",
        "plt.title('Cross Entropy Error Curve for Training data while training')\n",
        "plt.show()\n",
        "plt.plot( range(20) , acc_tr )\n",
        "plt.xlabel('Number of epochs')\n",
        "plt.ylabel('Accuracy')\n",
        "plt.title('Accuracy Curve for Training data while training')\n",
        "plt.show()\n",
        "plt.plot( range(20) , err_val )\n",
        "plt.xlabel('Number of epochs')\n",
        "plt.ylabel('Cross Entropy Error')\n",
        "plt.title('Cross Entropy Error Curve for Validation data while training')\n",
        "plt.show()\n",
        "plt.plot( range(20) , acc_val )\n",
        "plt.xlabel('Number of epochs')\n",
        "plt.ylabel('Accuracy')\n",
        "plt.title('Accuracy Curve for Validation data while training')\n",
        "plt.show()"
      ],
      "execution_count": 0,
      "outputs": []
    },
    {
      "cell_type": "code",
      "metadata": {
        "id": "8olgqh-iO-5W",
        "colab_type": "code",
        "colab": {}
      },
      "source": [
        "torch.save(model_vgg.state_dict(), '/content/drive/My Drive/vgg16_focal_loss.pth')"
      ],
      "execution_count": 0,
      "outputs": []
    },
    {
      "cell_type": "markdown",
      "metadata": {
        "id": "ld2pz3FzPCTZ",
        "colab_type": "text"
      },
      "source": [
        "*********************************************"
      ]
    },
    {
      "cell_type": "markdown",
      "metadata": {
        "colab_type": "text",
        "id": "APTpjoXJPHIi"
      },
      "source": [
        "*********************************************"
      ]
    },
    {
      "cell_type": "markdown",
      "metadata": {
        "colab_type": "text",
        "id": "7WiPR9TlPHZo"
      },
      "source": [
        "*********************************************"
      ]
    },
    {
      "cell_type": "markdown",
      "metadata": {
        "colab_type": "text",
        "id": "RG_eoXjNPHld"
      },
      "source": [
        "*********************************************"
      ]
    },
    {
      "cell_type": "markdown",
      "metadata": {
        "id": "-5tYRx_VsRax",
        "colab_type": "text"
      },
      "source": [
        "*** ----------------> ResNet-18 Model <----------------  ***"
      ]
    },
    {
      "cell_type": "code",
      "metadata": {
        "id": "jtXCX4yDNa6r",
        "colab_type": "code",
        "outputId": "bb2eda59-60ac-44a8-9e1d-7711b312b900",
        "colab": {
          "base_uri": "https://localhost:8080/",
          "height": 1000
        }
      },
      "source": [
        "# Load the pretrained model from pytorch\n",
        "resnet18 = models.resnet18(pretrained=True)\n",
        "\n",
        "# Freeze all the layers except the last FC layers\n",
        "for param in resnet18.parameters():\n",
        "    param.requires_grad = True\n",
        "\n",
        "#### Use this for unfreezing CNN layers\n",
        "# for param in resnet18.layer4.parameters():\n",
        "#     param.requires_grad = True\n",
        "\n",
        "### Use this for unfreezing 1 CNN layer\n",
        "# for param in resnet18.layer4[1].conv2.parameters():\n",
        "#     param.requires_grad = True\n",
        "# for param in resnet18.layer4[1].bn2.parameters():\n",
        "#     param.requires_grad = True\n",
        "\n",
        "# Modifying dense layers in VGG16 architecture\n",
        "fc_layers = []\n",
        "fc_layers.extend( [ nn.Linear( resnet18.fc.in_features , 96*10+100 , bias=True ) ] )\n",
        "fc_layers.extend( [ nn.ReLU( inplace=True ) ] )\n",
        "fc_layers.extend( [ nn.Dropout( p=0.5, inplace=False ) ] )\n",
        "fc_layers.extend( [ nn.Linear( 96*10+100 , len(class_names) ) ] )\n",
        "resnet18.fc = nn.Sequential( *fc_layers )\n",
        "\n",
        "# Unfreeze FC layers\n",
        "for param in resnet18.fc.parameters():\n",
        "    param.requires_grad = True\n",
        "\n",
        "# Printing modified VGG16 architecture\n",
        "print(resnet18)"
      ],
      "execution_count": 0,
      "outputs": [
        {
          "output_type": "stream",
          "text": [
            "ResNet(\n",
            "  (conv1): Conv2d(3, 64, kernel_size=(7, 7), stride=(2, 2), padding=(3, 3), bias=False)\n",
            "  (bn1): BatchNorm2d(64, eps=1e-05, momentum=0.1, affine=True, track_running_stats=True)\n",
            "  (relu): ReLU(inplace=True)\n",
            "  (maxpool): MaxPool2d(kernel_size=3, stride=2, padding=1, dilation=1, ceil_mode=False)\n",
            "  (layer1): Sequential(\n",
            "    (0): BasicBlock(\n",
            "      (conv1): Conv2d(64, 64, kernel_size=(3, 3), stride=(1, 1), padding=(1, 1), bias=False)\n",
            "      (bn1): BatchNorm2d(64, eps=1e-05, momentum=0.1, affine=True, track_running_stats=True)\n",
            "      (relu): ReLU(inplace=True)\n",
            "      (conv2): Conv2d(64, 64, kernel_size=(3, 3), stride=(1, 1), padding=(1, 1), bias=False)\n",
            "      (bn2): BatchNorm2d(64, eps=1e-05, momentum=0.1, affine=True, track_running_stats=True)\n",
            "    )\n",
            "    (1): BasicBlock(\n",
            "      (conv1): Conv2d(64, 64, kernel_size=(3, 3), stride=(1, 1), padding=(1, 1), bias=False)\n",
            "      (bn1): BatchNorm2d(64, eps=1e-05, momentum=0.1, affine=True, track_running_stats=True)\n",
            "      (relu): ReLU(inplace=True)\n",
            "      (conv2): Conv2d(64, 64, kernel_size=(3, 3), stride=(1, 1), padding=(1, 1), bias=False)\n",
            "      (bn2): BatchNorm2d(64, eps=1e-05, momentum=0.1, affine=True, track_running_stats=True)\n",
            "    )\n",
            "  )\n",
            "  (layer2): Sequential(\n",
            "    (0): BasicBlock(\n",
            "      (conv1): Conv2d(64, 128, kernel_size=(3, 3), stride=(2, 2), padding=(1, 1), bias=False)\n",
            "      (bn1): BatchNorm2d(128, eps=1e-05, momentum=0.1, affine=True, track_running_stats=True)\n",
            "      (relu): ReLU(inplace=True)\n",
            "      (conv2): Conv2d(128, 128, kernel_size=(3, 3), stride=(1, 1), padding=(1, 1), bias=False)\n",
            "      (bn2): BatchNorm2d(128, eps=1e-05, momentum=0.1, affine=True, track_running_stats=True)\n",
            "      (downsample): Sequential(\n",
            "        (0): Conv2d(64, 128, kernel_size=(1, 1), stride=(2, 2), bias=False)\n",
            "        (1): BatchNorm2d(128, eps=1e-05, momentum=0.1, affine=True, track_running_stats=True)\n",
            "      )\n",
            "    )\n",
            "    (1): BasicBlock(\n",
            "      (conv1): Conv2d(128, 128, kernel_size=(3, 3), stride=(1, 1), padding=(1, 1), bias=False)\n",
            "      (bn1): BatchNorm2d(128, eps=1e-05, momentum=0.1, affine=True, track_running_stats=True)\n",
            "      (relu): ReLU(inplace=True)\n",
            "      (conv2): Conv2d(128, 128, kernel_size=(3, 3), stride=(1, 1), padding=(1, 1), bias=False)\n",
            "      (bn2): BatchNorm2d(128, eps=1e-05, momentum=0.1, affine=True, track_running_stats=True)\n",
            "    )\n",
            "  )\n",
            "  (layer3): Sequential(\n",
            "    (0): BasicBlock(\n",
            "      (conv1): Conv2d(128, 256, kernel_size=(3, 3), stride=(2, 2), padding=(1, 1), bias=False)\n",
            "      (bn1): BatchNorm2d(256, eps=1e-05, momentum=0.1, affine=True, track_running_stats=True)\n",
            "      (relu): ReLU(inplace=True)\n",
            "      (conv2): Conv2d(256, 256, kernel_size=(3, 3), stride=(1, 1), padding=(1, 1), bias=False)\n",
            "      (bn2): BatchNorm2d(256, eps=1e-05, momentum=0.1, affine=True, track_running_stats=True)\n",
            "      (downsample): Sequential(\n",
            "        (0): Conv2d(128, 256, kernel_size=(1, 1), stride=(2, 2), bias=False)\n",
            "        (1): BatchNorm2d(256, eps=1e-05, momentum=0.1, affine=True, track_running_stats=True)\n",
            "      )\n",
            "    )\n",
            "    (1): BasicBlock(\n",
            "      (conv1): Conv2d(256, 256, kernel_size=(3, 3), stride=(1, 1), padding=(1, 1), bias=False)\n",
            "      (bn1): BatchNorm2d(256, eps=1e-05, momentum=0.1, affine=True, track_running_stats=True)\n",
            "      (relu): ReLU(inplace=True)\n",
            "      (conv2): Conv2d(256, 256, kernel_size=(3, 3), stride=(1, 1), padding=(1, 1), bias=False)\n",
            "      (bn2): BatchNorm2d(256, eps=1e-05, momentum=0.1, affine=True, track_running_stats=True)\n",
            "    )\n",
            "  )\n",
            "  (layer4): Sequential(\n",
            "    (0): BasicBlock(\n",
            "      (conv1): Conv2d(256, 512, kernel_size=(3, 3), stride=(2, 2), padding=(1, 1), bias=False)\n",
            "      (bn1): BatchNorm2d(512, eps=1e-05, momentum=0.1, affine=True, track_running_stats=True)\n",
            "      (relu): ReLU(inplace=True)\n",
            "      (conv2): Conv2d(512, 512, kernel_size=(3, 3), stride=(1, 1), padding=(1, 1), bias=False)\n",
            "      (bn2): BatchNorm2d(512, eps=1e-05, momentum=0.1, affine=True, track_running_stats=True)\n",
            "      (downsample): Sequential(\n",
            "        (0): Conv2d(256, 512, kernel_size=(1, 1), stride=(2, 2), bias=False)\n",
            "        (1): BatchNorm2d(512, eps=1e-05, momentum=0.1, affine=True, track_running_stats=True)\n",
            "      )\n",
            "    )\n",
            "    (1): BasicBlock(\n",
            "      (conv1): Conv2d(512, 512, kernel_size=(3, 3), stride=(1, 1), padding=(1, 1), bias=False)\n",
            "      (bn1): BatchNorm2d(512, eps=1e-05, momentum=0.1, affine=True, track_running_stats=True)\n",
            "      (relu): ReLU(inplace=True)\n",
            "      (conv2): Conv2d(512, 512, kernel_size=(3, 3), stride=(1, 1), padding=(1, 1), bias=False)\n",
            "      (bn2): BatchNorm2d(512, eps=1e-05, momentum=0.1, affine=True, track_running_stats=True)\n",
            "    )\n",
            "  )\n",
            "  (avgpool): AdaptiveAvgPool2d(output_size=(1, 1))\n",
            "  (fc): Sequential(\n",
            "    (0): Linear(in_features=512, out_features=1060, bias=True)\n",
            "    (1): ReLU(inplace=True)\n",
            "    (2): Dropout(p=0.5, inplace=False)\n",
            "    (3): Linear(in_features=1060, out_features=2, bias=True)\n",
            "  )\n",
            ")\n"
          ],
          "name": "stdout"
        }
      ]
    },
    {
      "cell_type": "code",
      "metadata": {
        "id": "HMPNM6SFO-xW",
        "colab_type": "code",
        "outputId": "1f009a45-84b5-4812-9dd2-6ecca2e44935",
        "colab": {
          "base_uri": "https://localhost:8080/",
          "height": 1000
        }
      },
      "source": [
        "# Printing parameter that needs to be updated for ResNet18\n",
        "\n",
        "for name, param in resnet18.named_parameters():\n",
        "    if param.requires_grad:\n",
        "       print(name)"
      ],
      "execution_count": 0,
      "outputs": [
        {
          "output_type": "stream",
          "text": [
            "conv1.weight\n",
            "bn1.weight\n",
            "bn1.bias\n",
            "layer1.0.conv1.weight\n",
            "layer1.0.bn1.weight\n",
            "layer1.0.bn1.bias\n",
            "layer1.0.conv2.weight\n",
            "layer1.0.bn2.weight\n",
            "layer1.0.bn2.bias\n",
            "layer1.1.conv1.weight\n",
            "layer1.1.bn1.weight\n",
            "layer1.1.bn1.bias\n",
            "layer1.1.conv2.weight\n",
            "layer1.1.bn2.weight\n",
            "layer1.1.bn2.bias\n",
            "layer2.0.conv1.weight\n",
            "layer2.0.bn1.weight\n",
            "layer2.0.bn1.bias\n",
            "layer2.0.conv2.weight\n",
            "layer2.0.bn2.weight\n",
            "layer2.0.bn2.bias\n",
            "layer2.0.downsample.0.weight\n",
            "layer2.0.downsample.1.weight\n",
            "layer2.0.downsample.1.bias\n",
            "layer2.1.conv1.weight\n",
            "layer2.1.bn1.weight\n",
            "layer2.1.bn1.bias\n",
            "layer2.1.conv2.weight\n",
            "layer2.1.bn2.weight\n",
            "layer2.1.bn2.bias\n",
            "layer3.0.conv1.weight\n",
            "layer3.0.bn1.weight\n",
            "layer3.0.bn1.bias\n",
            "layer3.0.conv2.weight\n",
            "layer3.0.bn2.weight\n",
            "layer3.0.bn2.bias\n",
            "layer3.0.downsample.0.weight\n",
            "layer3.0.downsample.1.weight\n",
            "layer3.0.downsample.1.bias\n",
            "layer3.1.conv1.weight\n",
            "layer3.1.bn1.weight\n",
            "layer3.1.bn1.bias\n",
            "layer3.1.conv2.weight\n",
            "layer3.1.bn2.weight\n",
            "layer3.1.bn2.bias\n",
            "layer4.0.conv1.weight\n",
            "layer4.0.bn1.weight\n",
            "layer4.0.bn1.bias\n",
            "layer4.0.conv2.weight\n",
            "layer4.0.bn2.weight\n",
            "layer4.0.bn2.bias\n",
            "layer4.0.downsample.0.weight\n",
            "layer4.0.downsample.1.weight\n",
            "layer4.0.downsample.1.bias\n",
            "layer4.1.conv1.weight\n",
            "layer4.1.bn1.weight\n",
            "layer4.1.bn1.bias\n",
            "layer4.1.conv2.weight\n",
            "layer4.1.bn2.weight\n",
            "layer4.1.bn2.bias\n",
            "fc.0.weight\n",
            "fc.0.bias\n",
            "fc.3.weight\n",
            "fc.3.bias\n"
          ],
          "name": "stdout"
        }
      ]
    },
    {
      "cell_type": "code",
      "metadata": {
        "colab_type": "code",
        "id": "pDdAqKJLPnPt",
        "colab": {}
      },
      "source": [
        "criterion = focal_loss(alpha=1, gamma=0)\n",
        "optimizer = optim.SGD(resnet18.parameters(), lr=0.0001, momentum=0.9)"
      ],
      "execution_count": 0,
      "outputs": []
    },
    {
      "cell_type": "code",
      "metadata": {
        "colab_type": "code",
        "id": "VSXTIB-cPnP-",
        "colab": {}
      },
      "source": [
        "resnet18 = resnet18.to(device)"
      ],
      "execution_count": 0,
      "outputs": []
    },
    {
      "cell_type": "code",
      "metadata": {
        "colab_type": "code",
        "outputId": "1db08f05-b11c-4326-f39e-b71b67e771af",
        "id": "VkOj3ROVPnQM",
        "colab": {
          "base_uri": "https://localhost:8080/",
          "height": 1000
        }
      },
      "source": [
        "##### training\n",
        "model_resnet, err_tr, acc_tr, err_val, acc_val = train_model( resnet18, criterion, optimizer, num_epochs = 20 )"
      ],
      "execution_count": 0,
      "outputs": [
        {
          "output_type": "stream",
          "text": [
            "Epoch 1/20\n",
            "----------------------------------------\n",
            "train ==> Loss: 0.4635 , Acc: 60.97 %\n",
            "val ==> Loss: 0.3972 , Acc: 67.52 %\n",
            "\n",
            "Epoch 2/20\n",
            "----------------------------------------\n",
            "train ==> Loss: 0.3806 , Acc: 70.73 %\n",
            "val ==> Loss: 0.3094 , Acc: 85.67 %\n",
            "\n",
            "Epoch 3/20\n",
            "----------------------------------------\n",
            "train ==> Loss: 0.3285 , Acc: 78.66 %\n",
            "val ==> Loss: 0.2666 , Acc: 85.67 %\n",
            "\n",
            "Epoch 4/20\n",
            "----------------------------------------\n",
            "train ==> Loss: 0.2921 , Acc: 80.97 %\n",
            "val ==> Loss: 0.2422 , Acc: 87.42 %\n",
            "\n",
            "Epoch 5/20\n",
            "----------------------------------------\n",
            "train ==> Loss: 0.2793 , Acc: 81.35 %\n",
            "val ==> Loss: 0.2231 , Acc: 87.58 %\n",
            "\n",
            "Epoch 6/20\n",
            "----------------------------------------\n",
            "train ==> Loss: 0.2684 , Acc: 82.68 %\n",
            "val ==> Loss: 0.2090 , Acc: 89.17 %\n",
            "\n",
            "Epoch 7/20\n",
            "----------------------------------------\n",
            "train ==> Loss: 0.2659 , Acc: 82.68 %\n",
            "val ==> Loss: 0.2046 , Acc: 89.49 %\n",
            "\n",
            "Epoch 8/20\n",
            "----------------------------------------\n",
            "train ==> Loss: 0.2558 , Acc: 83.23 %\n",
            "val ==> Loss: 0.1896 , Acc: 90.45 %\n",
            "\n",
            "Epoch 9/20\n",
            "----------------------------------------\n",
            "train ==> Loss: 0.2448 , Acc: 83.68 %\n",
            "val ==> Loss: 0.1865 , Acc: 90.61 %\n",
            "\n",
            "Epoch 10/20\n",
            "----------------------------------------\n",
            "train ==> Loss: 0.2398 , Acc: 84.34 %\n",
            "val ==> Loss: 0.1811 , Acc: 90.13 %\n",
            "\n",
            "Epoch 11/20\n",
            "----------------------------------------\n",
            "train ==> Loss: 0.2390 , Acc: 85.11 %\n",
            "val ==> Loss: 0.1823 , Acc: 90.13 %\n",
            "\n",
            "Epoch 12/20\n",
            "----------------------------------------\n",
            "train ==> Loss: 0.2410 , Acc: 84.16 %\n",
            "val ==> Loss: 0.1717 , Acc: 89.81 %\n",
            "\n",
            "Epoch 13/20\n",
            "----------------------------------------\n",
            "train ==> Loss: 0.2317 , Acc: 84.84 %\n",
            "val ==> Loss: 0.1682 , Acc: 90.45 %\n",
            "\n",
            "Epoch 14/20\n",
            "----------------------------------------\n",
            "train ==> Loss: 0.2316 , Acc: 85.03 %\n",
            "val ==> Loss: 0.1660 , Acc: 90.13 %\n",
            "\n",
            "Epoch 15/20\n",
            "----------------------------------------\n",
            "train ==> Loss: 0.2278 , Acc: 85.35 %\n",
            "val ==> Loss: 0.1710 , Acc: 90.45 %\n",
            "\n",
            "Epoch 16/20\n",
            "----------------------------------------\n",
            "train ==> Loss: 0.2288 , Acc: 84.73 %\n",
            "val ==> Loss: 0.1581 , Acc: 90.29 %\n",
            "\n",
            "Epoch 17/20\n",
            "----------------------------------------\n",
            "train ==> Loss: 0.2338 , Acc: 84.32 %\n",
            "val ==> Loss: 0.1478 , Acc: 90.45 %\n",
            "\n",
            "Epoch 18/20\n",
            "----------------------------------------\n",
            "train ==> Loss: 0.2193 , Acc: 85.90 %\n",
            "val ==> Loss: 0.1475 , Acc: 91.24 %\n",
            "\n",
            "Epoch 19/20\n",
            "----------------------------------------\n",
            "train ==> Loss: 0.2172 , Acc: 85.53 %\n",
            "val ==> Loss: 0.1528 , Acc: 90.92 %\n",
            "\n",
            "Epoch 20/20\n",
            "----------------------------------------\n",
            "train ==> Loss: 0.2221 , Acc: 85.44 %\n",
            "val ==> Loss: 0.1566 , Acc: 91.08 %\n",
            "\n",
            "Training complete in 54m 50s\n",
            "Best Validation Accuracy: 91.242038 %\n"
          ],
          "name": "stdout"
        }
      ]
    },
    {
      "cell_type": "code",
      "metadata": {
        "id": "tT9Ael1N871E",
        "colab_type": "code",
        "outputId": "bb6b9324-1992-4629-fe31-e8cdb5055194",
        "colab": {
          "base_uri": "https://localhost:8080/",
          "height": 1000
        }
      },
      "source": [
        "plt.plot( range(20) , err_tr )\n",
        "plt.xlabel('Number of epochs')\n",
        "plt.ylabel('Cross Entropy Error')\n",
        "plt.title('Cross Entropy Error Curve for Training data while training')\n",
        "plt.show()\n",
        "plt.plot( range(20) , acc_tr )\n",
        "plt.xlabel('Number of epochs')\n",
        "plt.ylabel('Accuracy')\n",
        "plt.title('Accuracy Curve for Training data while training')\n",
        "plt.show()\n",
        "plt.plot( range(20) , err_val )\n",
        "plt.xlabel('Number of epochs')\n",
        "plt.ylabel('Cross Entropy Error')\n",
        "plt.title('Cross Entropy Error Curve for Validation data while training')\n",
        "plt.show()\n",
        "plt.plot( range(20) , acc_val )\n",
        "plt.xlabel('Number of epochs')\n",
        "plt.ylabel('Accuracy')\n",
        "plt.title('Accuracy Curve for Validation data while training')\n",
        "plt.show()"
      ],
      "execution_count": 0,
      "outputs": [
        {
          "output_type": "display_data",
          "data": {
            "image/png": "[encoded data removed]",
            "text/plain": [
              "<Figure size 432x288 with 1 Axes>"
            ]
          },
          "metadata": {
            "tags": [],
            "needs_background": "light"
          }
        },
        {
          "output_type": "display_data",
          "data": {
            "image/png": "[encoded data removed]",
            "text/plain": [
              "<Figure size 432x288 with 1 Axes>"
            ]
          },
          "metadata": {
            "tags": [],
            "needs_background": "light"
          }
        },
        {
          "output_type": "display_data",
          "data": {
            "image/png": "[encoded data removed]",
            "text/plain": [
              "<Figure size 432x288 with 1 Axes>"
            ]
          },
          "metadata": {
            "tags": [],
            "needs_background": "light"
          }
        },
        {
          "output_type": "display_data",
          "data": {
            "image/png": "[encoded data removed]",
            "text/plain": [
              "<Figure size 432x288 with 1 Axes>"
            ]
          },
          "metadata": {
            "tags": [],
            "needs_background": "light"
          }
        }
      ]
    },
    {
      "cell_type": "code",
      "metadata": {
        "id": "gEcjhkErQjNO",
        "colab_type": "code",
        "colab": {}
      },
      "source": [
        "torch.save(model_resnet.state_dict(), '/content/drive/My Drive/res18_focal_loss.pth')"
      ],
      "execution_count": 0,
      "outputs": []
    },
    {
      "cell_type": "markdown",
      "metadata": {
        "colab_type": "text",
        "id": "Zz2A8_rK-DEX"
      },
      "source": [
        "*********************************************"
      ]
    },
    {
      "cell_type": "markdown",
      "metadata": {
        "colab_type": "text",
        "id": "iTJ1vm9f-DEc"
      },
      "source": [
        "*********************************************"
      ]
    },
    {
      "cell_type": "markdown",
      "metadata": {
        "colab_type": "text",
        "id": "VzrymZVx-DEf"
      },
      "source": [
        "*********************************************"
      ]
    },
    {
      "cell_type": "markdown",
      "metadata": {
        "colab_type": "text",
        "id": "vRfOir4m-DEh"
      },
      "source": [
        "*********************************************"
      ]
    },
    {
      "cell_type": "markdown",
      "metadata": {
        "id": "7YCGYZgU9RQB",
        "colab_type": "text"
      },
      "source": [
        "*** ----------------> F1-SCORES AND CONFUSION MATRICES <---------------- ***"
      ]
    },
    {
      "cell_type": "markdown",
      "metadata": {
        "id": "o2s9GbB4_Cmc",
        "colab_type": "text"
      },
      "source": [
        "***Loading VGG16 Model***"
      ]
    },
    {
      "cell_type": "code",
      "metadata": {
        "id": "3r0xwZ1M_dRm",
        "colab_type": "code",
        "outputId": "f37c6232-d82b-4033-b86b-d68e3dbd52f5",
        "colab": {
          "base_uri": "https://localhost:8080/",
          "height": 557
        }
      },
      "source": [
        "# Load the pretrained model from pytorch\n",
        "vgg16 = models.vgg16(pretrained=True)\n",
        "\n",
        "# Freeze all the layers except the last FC layers\n",
        "for param in vgg16.parameters():\n",
        "    param.requires_grad = True\n",
        "\n",
        "# Fully connected layer architecture\n",
        "fc_layers = []\n",
        "fc_layers.extend( [ nn.Linear( vgg16.classifier[0].in_features , 96*10+100 , bias=True ) ] )\n",
        "fc_layers.extend( [ nn.ReLU( inplace=True ) ] )\n",
        "fc_layers.extend( [ nn.Dropout( p=0.5, inplace=False ) ] )\n",
        "fc_layers.extend( [ nn.Linear( 96*10+100 , len(class_names) ) ] )\n",
        "\n",
        "# Modifying dense layers in VGG16 architecture\n",
        "vgg16.classifier = nn.Sequential(*fc_layers)\n",
        "\n",
        "# Unfreeze FC layers\n",
        "for param in vgg16.classifier.parameters():\n",
        "    param.requires_grad = True\n",
        "\n",
        "# printing trainable parameters\n",
        "for name, param in vgg16.named_parameters():\n",
        "    if param.requires_grad:\n",
        "       print(name)"
      ],
      "execution_count": 0,
      "outputs": [
        {
          "output_type": "stream",
          "text": [
            "features.0.weight\n",
            "features.0.bias\n",
            "features.2.weight\n",
            "features.2.bias\n",
            "features.5.weight\n",
            "features.5.bias\n",
            "features.7.weight\n",
            "features.7.bias\n",
            "features.10.weight\n",
            "features.10.bias\n",
            "features.12.weight\n",
            "features.12.bias\n",
            "features.14.weight\n",
            "features.14.bias\n",
            "features.17.weight\n",
            "features.17.bias\n",
            "features.19.weight\n",
            "features.19.bias\n",
            "features.21.weight\n",
            "features.21.bias\n",
            "features.24.weight\n",
            "features.24.bias\n",
            "features.26.weight\n",
            "features.26.bias\n",
            "features.28.weight\n",
            "features.28.bias\n",
            "classifier.0.weight\n",
            "classifier.0.bias\n",
            "classifier.3.weight\n",
            "classifier.3.bias\n"
          ],
          "name": "stdout"
        }
      ]
    },
    {
      "cell_type": "code",
      "metadata": {
        "id": "GrmlJBJP_nfp",
        "colab_type": "code",
        "outputId": "734589ce-616e-45e8-e2b0-0d91a12ee960",
        "colab": {
          "base_uri": "https://localhost:8080/",
          "height": 773
        }
      },
      "source": [
        "vgg16.load_state_dict(torch.load('/content/drive/My Drive/vgg16_focal_loss.pth'))\n",
        "vgg16 = vgg16.to(device)\n",
        "vgg16.eval()"
      ],
      "execution_count": 0,
      "outputs": [
        {
          "output_type": "execute_result",
          "data": {
            "text/plain": [
              "VGG(\n",
              "  (features): Sequential(\n",
              "    (0): Conv2d(3, 64, kernel_size=(3, 3), stride=(1, 1), padding=(1, 1))\n",
              "    (1): ReLU(inplace=True)\n",
              "    (2): Conv2d(64, 64, kernel_size=(3, 3), stride=(1, 1), padding=(1, 1))\n",
              "    (3): ReLU(inplace=True)\n",
              "    (4): MaxPool2d(kernel_size=2, stride=2, padding=0, dilation=1, ceil_mode=False)\n",
              "    (5): Conv2d(64, 128, kernel_size=(3, 3), stride=(1, 1), padding=(1, 1))\n",
              "    (6): ReLU(inplace=True)\n",
              "    (7): Conv2d(128, 128, kernel_size=(3, 3), stride=(1, 1), padding=(1, 1))\n",
              "    (8): ReLU(inplace=True)\n",
              "    (9): MaxPool2d(kernel_size=2, stride=2, padding=0, dilation=1, ceil_mode=False)\n",
              "    (10): Conv2d(128, 256, kernel_size=(3, 3), stride=(1, 1), padding=(1, 1))\n",
              "    (11): ReLU(inplace=True)\n",
              "    (12): Conv2d(256, 256, kernel_size=(3, 3), stride=(1, 1), padding=(1, 1))\n",
              "    (13): ReLU(inplace=True)\n",
              "    (14): Conv2d(256, 256, kernel_size=(3, 3), stride=(1, 1), padding=(1, 1))\n",
              "    (15): ReLU(inplace=True)\n",
              "    (16): MaxPool2d(kernel_size=2, stride=2, padding=0, dilation=1, ceil_mode=False)\n",
              "    (17): Conv2d(256, 512, kernel_size=(3, 3), stride=(1, 1), padding=(1, 1))\n",
              "    (18): ReLU(inplace=True)\n",
              "    (19): Conv2d(512, 512, kernel_size=(3, 3), stride=(1, 1), padding=(1, 1))\n",
              "    (20): ReLU(inplace=True)\n",
              "    (21): Conv2d(512, 512, kernel_size=(3, 3), stride=(1, 1), padding=(1, 1))\n",
              "    (22): ReLU(inplace=True)\n",
              "    (23): MaxPool2d(kernel_size=2, stride=2, padding=0, dilation=1, ceil_mode=False)\n",
              "    (24): Conv2d(512, 512, kernel_size=(3, 3), stride=(1, 1), padding=(1, 1))\n",
              "    (25): ReLU(inplace=True)\n",
              "    (26): Conv2d(512, 512, kernel_size=(3, 3), stride=(1, 1), padding=(1, 1))\n",
              "    (27): ReLU(inplace=True)\n",
              "    (28): Conv2d(512, 512, kernel_size=(3, 3), stride=(1, 1), padding=(1, 1))\n",
              "    (29): ReLU(inplace=True)\n",
              "    (30): MaxPool2d(kernel_size=2, stride=2, padding=0, dilation=1, ceil_mode=False)\n",
              "  )\n",
              "  (avgpool): AdaptiveAvgPool2d(output_size=(7, 7))\n",
              "  (classifier): Sequential(\n",
              "    (0): Linear(in_features=25088, out_features=1060, bias=True)\n",
              "    (1): ReLU(inplace=True)\n",
              "    (2): Dropout(p=0.5, inplace=False)\n",
              "    (3): Linear(in_features=1060, out_features=3, bias=True)\n",
              "  )\n",
              ")"
            ]
          },
          "metadata": {
            "tags": []
          },
          "execution_count": 100
        }
      ]
    },
    {
      "cell_type": "markdown",
      "metadata": {
        "id": "FHEPPfDRpl_r",
        "colab_type": "text"
      },
      "source": [
        "***Loading ResNet18 Model***"
      ]
    },
    {
      "cell_type": "code",
      "metadata": {
        "id": "d99__sCfqjUi",
        "colab_type": "code",
        "outputId": "2a239f3e-c14b-41f7-9690-8da8b066df28",
        "colab": {
          "base_uri": "https://localhost:8080/",
          "height": 1000,
          "referenced_widgets": [
            "689c2d99d9ab4de3ab90f468a0bf0038",
            "696a5f3ff3ea415fb16835ae1a887436",
            "69117e50251a4196819a8f411b4c39f7",
            "9b7a5a2b23004770a05d667025b9e967",
            "e4d5a9ab5e7445379714aaad738dc623",
            "5b503fd344da400b84a89b2274d8962b",
            "d9d400f73d10414d94bd8c7c84711a36",
            "1eebf0198c7f44ab89ee007de7393f1e"
          ]
        }
      },
      "source": [
        "# Load the pretrained model from pytorch\n",
        "resnet18 = models.resnet18(pretrained=True)\n",
        "\n",
        "# Freeze all the layers except the last FC layers\n",
        "for param in resnet18.parameters():\n",
        "    param.requires_grad = True\n",
        "\n",
        "# Modifying dense layers in VGG16 architecture\n",
        "fc_layers = []\n",
        "fc_layers.extend( [ nn.Linear( resnet18.fc.in_features , 96*10+100 , bias=True ) ] )\n",
        "fc_layers.extend( [ nn.ReLU( inplace=True ) ] )\n",
        "fc_layers.extend( [ nn.Dropout( p=0.5, inplace=False ) ] )\n",
        "fc_layers.extend( [ nn.Linear( 96*10+100 , len(class_names) ) ] )\n",
        "resnet18.fc = nn.Sequential( *fc_layers )\n",
        "\n",
        "# Unfreeze FC layers\n",
        "for param in resnet18.fc.parameters():\n",
        "    param.requires_grad = True\n",
        "\n",
        "# printing trainable parameters\n",
        "for name, param in resnet18.named_parameters():\n",
        "    if param.requires_grad:\n",
        "       print(name)"
      ],
      "execution_count": 0,
      "outputs": [
        {
          "output_type": "stream",
          "text": [
            "Downloading: \"https://download.pytorch.org/models/resnet18-5c106cde.pth\" to /root/.cache/torch/checkpoints/resnet18-5c106cde.pth\n"
          ],
          "name": "stderr"
        },
        {
          "output_type": "display_data",
          "data": {
            "application/vnd.jupyter.widget-view+json": {
              "model_id": "689c2d99d9ab4de3ab90f468a0bf0038",
              "version_minor": 0,
              "version_major": 2
            },
            "text/plain": [
              "HBox(children=(IntProgress(value=0, max=46827520), HTML(value='')))"
            ]
          },
          "metadata": {
            "tags": []
          }
        },
        {
          "output_type": "stream",
          "text": [
            "\n",
            "conv1.weight\n",
            "bn1.weight\n",
            "bn1.bias\n",
            "layer1.0.conv1.weight\n",
            "layer1.0.bn1.weight\n",
            "layer1.0.bn1.bias\n",
            "layer1.0.conv2.weight\n",
            "layer1.0.bn2.weight\n",
            "layer1.0.bn2.bias\n",
            "layer1.1.conv1.weight\n",
            "layer1.1.bn1.weight\n",
            "layer1.1.bn1.bias\n",
            "layer1.1.conv2.weight\n",
            "layer1.1.bn2.weight\n",
            "layer1.1.bn2.bias\n",
            "layer2.0.conv1.weight\n",
            "layer2.0.bn1.weight\n",
            "layer2.0.bn1.bias\n",
            "layer2.0.conv2.weight\n",
            "layer2.0.bn2.weight\n",
            "layer2.0.bn2.bias\n",
            "layer2.0.downsample.0.weight\n",
            "layer2.0.downsample.1.weight\n",
            "layer2.0.downsample.1.bias\n",
            "layer2.1.conv1.weight\n",
            "layer2.1.bn1.weight\n",
            "layer2.1.bn1.bias\n",
            "layer2.1.conv2.weight\n",
            "layer2.1.bn2.weight\n",
            "layer2.1.bn2.bias\n",
            "layer3.0.conv1.weight\n",
            "layer3.0.bn1.weight\n",
            "layer3.0.bn1.bias\n",
            "layer3.0.conv2.weight\n",
            "layer3.0.bn2.weight\n",
            "layer3.0.bn2.bias\n",
            "layer3.0.downsample.0.weight\n",
            "layer3.0.downsample.1.weight\n",
            "layer3.0.downsample.1.bias\n",
            "layer3.1.conv1.weight\n",
            "layer3.1.bn1.weight\n",
            "layer3.1.bn1.bias\n",
            "layer3.1.conv2.weight\n",
            "layer3.1.bn2.weight\n",
            "layer3.1.bn2.bias\n",
            "layer4.0.conv1.weight\n",
            "layer4.0.bn1.weight\n",
            "layer4.0.bn1.bias\n",
            "layer4.0.conv2.weight\n",
            "layer4.0.bn2.weight\n",
            "layer4.0.bn2.bias\n",
            "layer4.0.downsample.0.weight\n",
            "layer4.0.downsample.1.weight\n",
            "layer4.0.downsample.1.bias\n",
            "layer4.1.conv1.weight\n",
            "layer4.1.bn1.weight\n",
            "layer4.1.bn1.bias\n",
            "layer4.1.conv2.weight\n",
            "layer4.1.bn2.weight\n",
            "layer4.1.bn2.bias\n",
            "fc.0.weight\n",
            "fc.0.bias\n",
            "fc.3.weight\n",
            "fc.3.bias\n"
          ],
          "name": "stdout"
        }
      ]
    },
    {
      "cell_type": "code",
      "metadata": {
        "id": "7McWseDpkyDX",
        "colab_type": "code",
        "outputId": "29f05fca-89cf-472e-d846-bebdb11a8774",
        "colab": {
          "base_uri": "https://localhost:8080/",
          "height": 1000
        }
      },
      "source": [
        "resnet18.load_state_dict(torch.load('/content/drive/My Drive/res18_focal_loss.pth'))\n",
        "resnet18 = resnet18.to(device)\n",
        "resnet18.eval()"
      ],
      "execution_count": 0,
      "outputs": [
        {
          "output_type": "execute_result",
          "data": {
            "text/plain": [
              "ResNet(\n",
              "  (conv1): Conv2d(3, 64, kernel_size=(7, 7), stride=(2, 2), padding=(3, 3), bias=False)\n",
              "  (bn1): BatchNorm2d(64, eps=1e-05, momentum=0.1, affine=True, track_running_stats=True)\n",
              "  (relu): ReLU(inplace=True)\n",
              "  (maxpool): MaxPool2d(kernel_size=3, stride=2, padding=1, dilation=1, ceil_mode=False)\n",
              "  (layer1): Sequential(\n",
              "    (0): BasicBlock(\n",
              "      (conv1): Conv2d(64, 64, kernel_size=(3, 3), stride=(1, 1), padding=(1, 1), bias=False)\n",
              "      (bn1): BatchNorm2d(64, eps=1e-05, momentum=0.1, affine=True, track_running_stats=True)\n",
              "      (relu): ReLU(inplace=True)\n",
              "      (conv2): Conv2d(64, 64, kernel_size=(3, 3), stride=(1, 1), padding=(1, 1), bias=False)\n",
              "      (bn2): BatchNorm2d(64, eps=1e-05, momentum=0.1, affine=True, track_running_stats=True)\n",
              "    )\n",
              "    (1): BasicBlock(\n",
              "      (conv1): Conv2d(64, 64, kernel_size=(3, 3), stride=(1, 1), padding=(1, 1), bias=False)\n",
              "      (bn1): BatchNorm2d(64, eps=1e-05, momentum=0.1, affine=True, track_running_stats=True)\n",
              "      (relu): ReLU(inplace=True)\n",
              "      (conv2): Conv2d(64, 64, kernel_size=(3, 3), stride=(1, 1), padding=(1, 1), bias=False)\n",
              "      (bn2): BatchNorm2d(64, eps=1e-05, momentum=0.1, affine=True, track_running_stats=True)\n",
              "    )\n",
              "  )\n",
              "  (layer2): Sequential(\n",
              "    (0): BasicBlock(\n",
              "      (conv1): Conv2d(64, 128, kernel_size=(3, 3), stride=(2, 2), padding=(1, 1), bias=False)\n",
              "      (bn1): BatchNorm2d(128, eps=1e-05, momentum=0.1, affine=True, track_running_stats=True)\n",
              "      (relu): ReLU(inplace=True)\n",
              "      (conv2): Conv2d(128, 128, kernel_size=(3, 3), stride=(1, 1), padding=(1, 1), bias=False)\n",
              "      (bn2): BatchNorm2d(128, eps=1e-05, momentum=0.1, affine=True, track_running_stats=True)\n",
              "      (downsample): Sequential(\n",
              "        (0): Conv2d(64, 128, kernel_size=(1, 1), stride=(2, 2), bias=False)\n",
              "        (1): BatchNorm2d(128, eps=1e-05, momentum=0.1, affine=True, track_running_stats=True)\n",
              "      )\n",
              "    )\n",
              "    (1): BasicBlock(\n",
              "      (conv1): Conv2d(128, 128, kernel_size=(3, 3), stride=(1, 1), padding=(1, 1), bias=False)\n",
              "      (bn1): BatchNorm2d(128, eps=1e-05, momentum=0.1, affine=True, track_running_stats=True)\n",
              "      (relu): ReLU(inplace=True)\n",
              "      (conv2): Conv2d(128, 128, kernel_size=(3, 3), stride=(1, 1), padding=(1, 1), bias=False)\n",
              "      (bn2): BatchNorm2d(128, eps=1e-05, momentum=0.1, affine=True, track_running_stats=True)\n",
              "    )\n",
              "  )\n",
              "  (layer3): Sequential(\n",
              "    (0): BasicBlock(\n",
              "      (conv1): Conv2d(128, 256, kernel_size=(3, 3), stride=(2, 2), padding=(1, 1), bias=False)\n",
              "      (bn1): BatchNorm2d(256, eps=1e-05, momentum=0.1, affine=True, track_running_stats=True)\n",
              "      (relu): ReLU(inplace=True)\n",
              "      (conv2): Conv2d(256, 256, kernel_size=(3, 3), stride=(1, 1), padding=(1, 1), bias=False)\n",
              "      (bn2): BatchNorm2d(256, eps=1e-05, momentum=0.1, affine=True, track_running_stats=True)\n",
              "      (downsample): Sequential(\n",
              "        (0): Conv2d(128, 256, kernel_size=(1, 1), stride=(2, 2), bias=False)\n",
              "        (1): BatchNorm2d(256, eps=1e-05, momentum=0.1, affine=True, track_running_stats=True)\n",
              "      )\n",
              "    )\n",
              "    (1): BasicBlock(\n",
              "      (conv1): Conv2d(256, 256, kernel_size=(3, 3), stride=(1, 1), padding=(1, 1), bias=False)\n",
              "      (bn1): BatchNorm2d(256, eps=1e-05, momentum=0.1, affine=True, track_running_stats=True)\n",
              "      (relu): ReLU(inplace=True)\n",
              "      (conv2): Conv2d(256, 256, kernel_size=(3, 3), stride=(1, 1), padding=(1, 1), bias=False)\n",
              "      (bn2): BatchNorm2d(256, eps=1e-05, momentum=0.1, affine=True, track_running_stats=True)\n",
              "    )\n",
              "  )\n",
              "  (layer4): Sequential(\n",
              "    (0): BasicBlock(\n",
              "      (conv1): Conv2d(256, 512, kernel_size=(3, 3), stride=(2, 2), padding=(1, 1), bias=False)\n",
              "      (bn1): BatchNorm2d(512, eps=1e-05, momentum=0.1, affine=True, track_running_stats=True)\n",
              "      (relu): ReLU(inplace=True)\n",
              "      (conv2): Conv2d(512, 512, kernel_size=(3, 3), stride=(1, 1), padding=(1, 1), bias=False)\n",
              "      (bn2): BatchNorm2d(512, eps=1e-05, momentum=0.1, affine=True, track_running_stats=True)\n",
              "      (downsample): Sequential(\n",
              "        (0): Conv2d(256, 512, kernel_size=(1, 1), stride=(2, 2), bias=False)\n",
              "        (1): BatchNorm2d(512, eps=1e-05, momentum=0.1, affine=True, track_running_stats=True)\n",
              "      )\n",
              "    )\n",
              "    (1): BasicBlock(\n",
              "      (conv1): Conv2d(512, 512, kernel_size=(3, 3), stride=(1, 1), padding=(1, 1), bias=False)\n",
              "      (bn1): BatchNorm2d(512, eps=1e-05, momentum=0.1, affine=True, track_running_stats=True)\n",
              "      (relu): ReLU(inplace=True)\n",
              "      (conv2): Conv2d(512, 512, kernel_size=(3, 3), stride=(1, 1), padding=(1, 1), bias=False)\n",
              "      (bn2): BatchNorm2d(512, eps=1e-05, momentum=0.1, affine=True, track_running_stats=True)\n",
              "    )\n",
              "  )\n",
              "  (avgpool): AdaptiveAvgPool2d(output_size=(1, 1))\n",
              "  (fc): Sequential(\n",
              "    (0): Linear(in_features=512, out_features=1060, bias=True)\n",
              "    (1): ReLU(inplace=True)\n",
              "    (2): Dropout(p=0.5, inplace=False)\n",
              "    (3): Linear(in_features=1060, out_features=2, bias=True)\n",
              "  )\n",
              ")"
            ]
          },
          "metadata": {
            "tags": []
          },
          "execution_count": 40
        }
      ]
    },
    {
      "cell_type": "markdown",
      "metadata": {
        "id": "g-lgdc_-_GdI",
        "colab_type": "text"
      },
      "source": [
        "***Finding Predictions for Training, Validation and Testing Data***"
      ]
    },
    {
      "cell_type": "code",
      "metadata": {
        "id": "zH3WlEFsYrue",
        "colab_type": "code",
        "colab": {}
      },
      "source": [
        "#### Training\n",
        "Y_act_train = np.array([0,0,0])\n",
        "Y_pred_train = np.array([0,0,0])\n",
        "with torch.no_grad():\n",
        "    for data in trainloader:\n",
        "        images, labels = data\n",
        "        images, labels = images.to(device), onehot(labels).to(device)\n",
        "        outputs = vgg16(images)\n",
        "        Y_act_train = np.vstack(( Y_act_train, np.array(labels.cpu()) ))\n",
        "        preds = torch.sigmoid(outputs)\n",
        "        preds[preds>=0.5] = 1\n",
        "        preds[preds<0.5] = 0\n",
        "        Y_pred_train = np.vstack(( Y_pred_train, np.array(preds.cpu()) ))\n",
        "\n",
        "Y_act_train = np.delete(Y_act_train, 0, 0)\n",
        "Y_pred_train = np.delete(Y_pred_train, 0, 0)"
      ],
      "execution_count": 0,
      "outputs": []
    },
    {
      "cell_type": "code",
      "metadata": {
        "colab_type": "code",
        "id": "SxwyqPiJPnQ9",
        "colab": {}
      },
      "source": [
        "#### Validation\n",
        "Y_act_val = np.array([0,0,0])\n",
        "Y_pred_val = np.array([0,0,0])\n",
        "with torch.no_grad():\n",
        "    for data in validloader:\n",
        "        images, labels = data\n",
        "        images, labels = images.to(device), onehot(labels).to(device)\n",
        "        outputs = vgg16(images)\n",
        "        Y_act_val = np.vstack(( Y_act_val, np.array(labels.cpu()) ))\n",
        "        preds = torch.sigmoid(outputs)\n",
        "        preds[preds>=0.5] = 1\n",
        "        preds[preds<0.5] = 0\n",
        "        Y_pred_val = np.vstack(( Y_pred_val, np.array(preds.cpu()) ))\n",
        "\n",
        "Y_act_val = np.delete(Y_act_val, 0, 0)\n",
        "Y_pred_val = np.delete(Y_pred_val, 0, 0)"
      ],
      "execution_count": 0,
      "outputs": []
    },
    {
      "cell_type": "markdown",
      "metadata": {
        "id": "M_WOSVIap43f",
        "colab_type": "text"
      },
      "source": [
        "***Generating F1-Scores and Confusion Matrices***"
      ]
    },
    {
      "cell_type": "code",
      "metadata": {
        "id": "xA-qFqHW8DFd",
        "colab_type": "code",
        "colab": {}
      },
      "source": [
        "classes = ['Covid-19','Pneumonia','Normal']"
      ],
      "execution_count": 0,
      "outputs": []
    },
    {
      "cell_type": "code",
      "metadata": {
        "id": "mJCyvuImv0u2",
        "colab_type": "code",
        "outputId": "e4744cdf-bee3-45ae-dfd7-4594d11ca6b9",
        "colab": {
          "base_uri": "https://localhost:8080/",
          "height": 287
        }
      },
      "source": [
        "# For Training Data\n",
        "matrix = multilabel_confusion_matrix(Y_act_train, Y_pred_train)\n",
        "f1 = f1_score(Y_act_train, Y_pred_train, average=None)\n",
        "for i,cls in enumerate(classes):\n",
        "    print('F1 score for {} = {:.4f}\\nConfusion matrix:'.format(cls, f1[i]))\n",
        "    print(matrix[i],'\\n')"
      ],
      "execution_count": 0,
      "outputs": [
        {
          "output_type": "stream",
          "text": [
            "F1 score for Covid-19 = 0.5366\n",
            "Confusion matrix:\n",
            "[[5990   10]\n",
            " [ 123   77]] \n",
            "\n",
            "F1 score for Pneumonia = 0.8812\n",
            "Confusion matrix:\n",
            "[[3949   51]\n",
            " [ 427 1773]] \n",
            "\n",
            "F1 score for Normal = 0.9427\n",
            "Confusion matrix:\n",
            "[[1770  430]\n",
            " [  50 3950]] \n",
            "\n"
          ],
          "name": "stdout"
        }
      ]
    },
    {
      "cell_type": "code",
      "metadata": {
        "id": "8RkhS01Gv3fz",
        "colab_type": "code",
        "outputId": "644bf1bb-ae47-4b85-c1c4-9269d665eb99",
        "colab": {
          "base_uri": "https://localhost:8080/",
          "height": 287
        }
      },
      "source": [
        "# For Validation Data\n",
        "matrix = multilabel_confusion_matrix(Y_act_val, Y_pred_val)\n",
        "f1 = f1_score(Y_act_val, Y_pred_val, average=None)\n",
        "for i,cls in enumerate(classes):\n",
        "    print('F1 score for {} = {:.4f}\\nConfusion matrix:'.format(cls, f1[i]))\n",
        "    print(matrix[i],'\\n')"
      ],
      "execution_count": 0,
      "outputs": [
        {
          "output_type": "stream",
          "text": [
            "F1 score for Covid-19 = 0.6190\n",
            "Confusion matrix:\n",
            "[[599   1]\n",
            " [ 15  13]] \n",
            "\n",
            "F1 score for Pneumonia = 0.9206\n",
            "Confusion matrix:\n",
            "[[397   3]\n",
            " [ 31 197]] \n",
            "\n",
            "F1 score for Normal = 0.9565\n",
            "Confusion matrix:\n",
            "[[196  32]\n",
            " [  4 396]] \n",
            "\n"
          ],
          "name": "stdout"
        }
      ]
    },
    {
      "cell_type": "markdown",
      "metadata": {
        "id": "LGQpdbrzYXn3",
        "colab_type": "text"
      },
      "source": [
        "**Writing Test Data predictions to a CSV File**"
      ]
    },
    {
      "cell_type": "code",
      "metadata": {
        "id": "d9M4tOQbZuKY",
        "colab_type": "code",
        "colab": {}
      },
      "source": [
        "image_names = []\n",
        "for file in os.listdir(\"/content/drive/My Drive/A05_P2_Dataset/Test/unlabeled\"):\n",
        "    image_names.append(file)\n",
        "image_names = np.array(image_names).reshape(len(image_names),1)"
      ],
      "execution_count": 0,
      "outputs": []
    },
    {
      "cell_type": "code",
      "metadata": {
        "id": "gfWLpNTPWWQ6",
        "colab_type": "code",
        "outputId": "00353ff8-3aed-4392-e728-b8226bf187a2",
        "colab": {
          "base_uri": "https://localhost:8080/",
          "height": 161
        }
      },
      "source": [
        "#### TESTING\n",
        "predicted = np.array([0,0,0])\n",
        "with torch.no_grad():\n",
        "    for data in testloader:\n",
        "        images, labels = data\n",
        "        images, labels = images.to(device), onehot(labels).to(device)\n",
        "        outputs = vgg16(images)\n",
        "        preds = torch.sigmoid(outputs)\n",
        "        preds[preds>=0.5] = 1\n",
        "        preds[preds<0.5] = 0\n",
        "        predicted = np.vstack(( predicted, np.array(preds.cpu()) ))\n",
        "\n",
        "predicted = np.delete(predicted, 0, 0)\n",
        "predicted = predicted.astype(int).astype(str)\n",
        "print('Testing data predictions are:\\n', predicted)"
      ],
      "execution_count": 0,
      "outputs": [
        {
          "output_type": "stream",
          "text": [
            "Testing data predictions are:\n",
            " [['0' '0' '1']\n",
            " ['0' '0' '1']\n",
            " ['0' '0' '1']\n",
            " ...\n",
            " ['0' '1' '0']\n",
            " ['0' '0' '1']\n",
            " ['0' '0' '1']]\n"
          ],
          "name": "stdout"
        }
      ]
    },
    {
      "cell_type": "code",
      "metadata": {
        "id": "qcwE0MlKda2q",
        "colab_type": "code",
        "outputId": "fa1b75b7-d0c2-402a-b2fa-4a2c3a19cdcf",
        "colab": {
          "base_uri": "https://localhost:8080/",
          "height": 197
        }
      },
      "source": [
        "predictions = np.hstack((image_names, predicted))\n",
        "predictions[:10]"
      ],
      "execution_count": 0,
      "outputs": [
        {
          "output_type": "execute_result",
          "data": {
            "text/plain": [
              "array([['230.jpg', '0', '0', '1'],\n",
              "       ['605.jpg', '0', '0', '1'],\n",
              "       ['437.jpg', '0', '0', '1'],\n",
              "       ['229.jpg', '0', '1', '0'],\n",
              "       ['524.jpg', '0', '0', '1'],\n",
              "       ['39.jpg', '0', '0', '1'],\n",
              "       ['9.jpg', '0', '1', '0'],\n",
              "       ['586.jpg', '1', '1', '0'],\n",
              "       ['474.jpg', '1', '1', '0'],\n",
              "       ['512.jpg', '0', '0', '1']], dtype='<U21')"
            ]
          },
          "metadata": {
            "tags": []
          },
          "execution_count": 139
        }
      ]
    },
    {
      "cell_type": "code",
      "metadata": {
        "id": "3XZO2yytajwd",
        "colab_type": "code",
        "colab": {}
      },
      "source": [
        "with open(\"predictions.csv\", 'w') as f:\n",
        "    csv.writer(f).writerows(predictions)"
      ],
      "execution_count": 0,
      "outputs": []
    }
  ]
}